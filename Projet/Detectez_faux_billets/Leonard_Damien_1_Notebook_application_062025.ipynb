{
 "cells": [
  {
   "cell_type": "markdown",
   "id": "65d89269-bfe8-4600-8d1e-2e8befd80d5c",
   "metadata": {},
   "source": [
    "# Random Forest Détecteur de faux billets "
   ]
  },
  {
   "cell_type": "markdown",
   "id": "781ab38f-6cda-49f5-a79a-b9280eee756a",
   "metadata": {},
   "source": [
    "## 1 Préparation du fichier\n",
    "### 1.1 Importation des librairies"
   ]
  },
  {
   "cell_type": "code",
   "execution_count": 1,
   "id": "062904f1-0128-4308-be49-8afc49f9097d",
   "metadata": {},
   "outputs": [],
   "source": [
    "import pandas as pd\n",
    "from sklearn.ensemble import RandomForestClassifier\n",
    "from sklearn.metrics import accuracy_score, confusion_matrix, classification_report\n",
    "import matplotlib.pyplot as plt\n",
    "import joblib"
   ]
  },
  {
   "cell_type": "markdown",
   "id": "45bcffa2-3e07-4d5e-9aab-1bf78bce79c9",
   "metadata": {},
   "source": [
    "### 1.2 Importation du modèle"
   ]
  },
  {
   "cell_type": "code",
   "execution_count": 2,
   "id": "66d4a085-79f9-4a2c-afb0-389ad4c775e9",
   "metadata": {},
   "outputs": [],
   "source": [
    "# modèle Random Forest entraîné et sauvegardé\n",
    "rf_model = joblib.load('random_forest_billets.pkl')"
   ]
  },
  {
   "cell_type": "markdown",
   "id": "3f2763e9-90cc-4cdc-a15c-153f8545625b",
   "metadata": {},
   "source": [
    "## 2 Fichier test"
   ]
  },
  {
   "cell_type": "code",
   "execution_count": 3,
   "id": "bd7f3667-6fac-4fda-bcb2-ab697c10cfdc",
   "metadata": {},
   "outputs": [],
   "source": [
    "# nouveau fichier avec d'autres billets\n",
    "df_test = pd.read_csv('billets_production.csv')"
   ]
  },
  {
   "cell_type": "code",
   "execution_count": 4,
   "id": "6953803b-b2e1-468c-82a6-f532ac1acad0",
   "metadata": {},
   "outputs": [
    {
     "data": {
      "text/html": [
       "<div>\n",
       "<style scoped>\n",
       "    .dataframe tbody tr th:only-of-type {\n",
       "        vertical-align: middle;\n",
       "    }\n",
       "\n",
       "    .dataframe tbody tr th {\n",
       "        vertical-align: top;\n",
       "    }\n",
       "\n",
       "    .dataframe thead th {\n",
       "        text-align: right;\n",
       "    }\n",
       "</style>\n",
       "<table border=\"1\" class=\"dataframe\">\n",
       "  <thead>\n",
       "    <tr style=\"text-align: right;\">\n",
       "      <th></th>\n",
       "      <th>diagonal</th>\n",
       "      <th>height_left</th>\n",
       "      <th>height_right</th>\n",
       "      <th>margin_low</th>\n",
       "      <th>margin_up</th>\n",
       "      <th>length</th>\n",
       "      <th>id</th>\n",
       "    </tr>\n",
       "  </thead>\n",
       "  <tbody>\n",
       "    <tr>\n",
       "      <th>0</th>\n",
       "      <td>171.76</td>\n",
       "      <td>104.01</td>\n",
       "      <td>103.54</td>\n",
       "      <td>5.21</td>\n",
       "      <td>3.30</td>\n",
       "      <td>111.42</td>\n",
       "      <td>A_1</td>\n",
       "    </tr>\n",
       "    <tr>\n",
       "      <th>1</th>\n",
       "      <td>171.87</td>\n",
       "      <td>104.17</td>\n",
       "      <td>104.13</td>\n",
       "      <td>6.00</td>\n",
       "      <td>3.31</td>\n",
       "      <td>112.09</td>\n",
       "      <td>A_2</td>\n",
       "    </tr>\n",
       "    <tr>\n",
       "      <th>2</th>\n",
       "      <td>172.00</td>\n",
       "      <td>104.58</td>\n",
       "      <td>104.29</td>\n",
       "      <td>4.99</td>\n",
       "      <td>3.39</td>\n",
       "      <td>111.57</td>\n",
       "      <td>A_3</td>\n",
       "    </tr>\n",
       "    <tr>\n",
       "      <th>3</th>\n",
       "      <td>172.49</td>\n",
       "      <td>104.55</td>\n",
       "      <td>104.34</td>\n",
       "      <td>4.44</td>\n",
       "      <td>3.03</td>\n",
       "      <td>113.20</td>\n",
       "      <td>A_4</td>\n",
       "    </tr>\n",
       "    <tr>\n",
       "      <th>4</th>\n",
       "      <td>171.65</td>\n",
       "      <td>103.63</td>\n",
       "      <td>103.56</td>\n",
       "      <td>3.77</td>\n",
       "      <td>3.16</td>\n",
       "      <td>113.33</td>\n",
       "      <td>A_5</td>\n",
       "    </tr>\n",
       "  </tbody>\n",
       "</table>\n",
       "</div>"
      ],
      "text/plain": [
       "   diagonal  height_left  height_right  margin_low  margin_up  length   id\n",
       "0    171.76       104.01        103.54        5.21       3.30  111.42  A_1\n",
       "1    171.87       104.17        104.13        6.00       3.31  112.09  A_2\n",
       "2    172.00       104.58        104.29        4.99       3.39  111.57  A_3\n",
       "3    172.49       104.55        104.34        4.44       3.03  113.20  A_4\n",
       "4    171.65       103.63        103.56        3.77       3.16  113.33  A_5"
      ]
     },
     "execution_count": 4,
     "metadata": {},
     "output_type": "execute_result"
    }
   ],
   "source": [
    "# afficher les premières lignes\n",
    "df_test.head()"
   ]
  },
  {
   "cell_type": "code",
   "execution_count": 5,
   "id": "e6372dd7-f613-4e25-8a0c-b5d3b1f9b67a",
   "metadata": {},
   "outputs": [
    {
     "name": "stdout",
     "output_type": "stream",
     "text": [
      "Nombre de Valeurs présentes dans chacune des colonnes\n",
      "diagonal        5\n",
      "height_left     5\n",
      "height_right    5\n",
      "margin_low      5\n",
      "margin_up       5\n",
      "length          5\n",
      "id              5\n",
      "dtype: int64\n"
     ]
    }
   ],
   "source": [
    "#Le nombre de valeurs présentes dans chacune des colonnes\n",
    "print(\"Nombre de Valeurs présentes dans chacune des colonnes\")\n",
    "print(df_test.count())"
   ]
  },
  {
   "cell_type": "markdown",
   "id": "89d25928-dab0-41fd-b0e0-1b570e9a8209",
   "metadata": {},
   "source": [
    "## 3 Prédiction"
   ]
  },
  {
   "cell_type": "code",
   "execution_count": 6,
   "id": "afd402fb-fbe8-4d82-a251-b8e3e9756b2a",
   "metadata": {},
   "outputs": [],
   "source": [
    "# Prédiction \n",
    "X_test = df_test.drop(columns=['id'])\n",
    "pred = rf_model.predict(X_test)"
   ]
  },
  {
   "cell_type": "code",
   "execution_count": 7,
   "id": "604831ba-052b-4132-9808-5bfcdb23560f",
   "metadata": {},
   "outputs": [
    {
     "name": "stdout",
     "output_type": "stream",
     "text": [
      "prediction\n",
      "False         3\n",
      "True          2\n",
      "Name: count, dtype: int64\n"
     ]
    }
   ],
   "source": [
    "# Ajouter la prédiction à la table\n",
    "df_test['prediction'] = pred\n",
    "print(df_test[['prediction']].value_counts())"
   ]
  },
  {
   "cell_type": "markdown",
   "id": "8c8f457b-0b61-40c5-b4ca-4fba06c2c00e",
   "metadata": {},
   "source": [
    "## 4 Visualisation"
   ]
  },
  {
   "cell_type": "code",
   "execution_count": 8,
   "id": "5bca616c-57a5-4ea1-ab40-2935fe0b3f09",
   "metadata": {},
   "outputs": [
    {
     "data": {
      "image/png": "[encoded data removed]",
      "text/plain": [
       "<Figure size 640x480 with 1 Axes>"
      ]
     },
     "metadata": {},
     "output_type": "display_data"
    }
   ],
   "source": [
    "# Afficher le nombre de vrais (1) et faux (0) billets\n",
    "df_test['prediction'].value_counts().plot(kind='bar', color=['red', 'green'])\n",
    "plt.title(\"Nombre de billets vrais et faux \")\n",
    "plt.xlabel(\"Prédiction\")\n",
    "plt.ylabel(\"Nombre de billets\")\n",
    "plt.xticks(rotation=0)\n",
    "plt.grid(axis='y')\n",
    "plt.show()"
   ]
  },
  {
   "cell_type": "code",
   "execution_count": 9,
   "id": "b7148b4b-8a0b-4932-8af9-69bd7eab241d",
   "metadata": {},
   "outputs": [
    {
     "name": "stdout",
     "output_type": "stream",
     "text": [
      "🧾 ID des billets FAUX détectés :\n",
      "['A_1' 'A_2' 'A_3']\n"
     ]
    }
   ],
   "source": [
    "# Filtrer les billets prédits comme faux\n",
    "billets_faux = df_test[df_test['prediction'] == 0]\n",
    "\n",
    "# Afficher les ID\n",
    "print(\"🧾 ID des billets FAUX détectés :\")\n",
    "print(billets_faux['id'].values)"
   ]
  },
  {
   "cell_type": "code",
   "execution_count": null,
   "id": "861c7305-492e-4bc7-8880-2ae7a10cbde8",
   "metadata": {},
   "outputs": [],
   "source": []
  }
 ],
 "metadata": {
  "kernelspec": {
   "display_name": "Python 3 (ipykernel)",
   "language": "python",
   "name": "python3"
  },
  "language_info": {
   "codemirror_mode": {
    "name": "ipython",
    "version": 3
   },
   "file_extension": ".py",
   "mimetype": "text/x-python",
   "name": "python",
   "nbconvert_exporter": "python",
   "pygments_lexer": "ipython3",
   "version": "3.11.11"
  }
 },
 "nbformat": 4,
 "nbformat_minor": 5
}
